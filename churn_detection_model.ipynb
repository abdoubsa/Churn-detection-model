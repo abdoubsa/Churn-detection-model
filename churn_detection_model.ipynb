{
  "nbformat": 4,
  "nbformat_minor": 0,
  "metadata": {
    "colab": {
      "provenance": [],
      "authorship_tag": "ABX9TyNxpC99u9Hf00viLnDXB0QF",
      "include_colab_link": true
    },
    "kernelspec": {
      "name": "python3",
      "display_name": "Python 3"
    },
    "language_info": {
      "name": "python"
    }
  },
  "cells": [
    {
      "cell_type": "markdown",
      "metadata": {
        "id": "view-in-github",
        "colab_type": "text"
      },
      "source": [
        "<a href=\"https://colab.research.google.com/github/abdoubsa/Churn-detection-model/blob/main/churn_detection_model.ipynb\" target=\"_parent\"><img src=\"https://colab.research.google.com/assets/colab-badge.svg\" alt=\"Open In Colab\"/></a>"
      ]
    },
    {
      "cell_type": "code",
      "execution_count": null,
      "metadata": {
        "id": "b9FvzMkb9jZl",
        "colab": {
          "base_uri": "https://localhost:8080/"
        },
        "outputId": "d558d93f-a003-41c0-fcca-0cf35f92bc66"
      },
      "outputs": [
        {
          "output_type": "stream",
          "name": "stdout",
          "text": [
            "   id  gender  SeniorCitizen Partner Dependents  tenure PhoneService  \\\n",
            "0   0    Male              0     Yes         No      51          Yes   \n",
            "1   1  Female              0      No         No      11          Yes   \n",
            "2   2  Female              0      No         No      16          Yes   \n",
            "3   3  Female              0      No         No      34          Yes   \n",
            "4   4  Female              1     Yes         No      43          Yes   \n",
            "\n",
            "  MultipleLines InternetService       OnlineSecurity  ...  \\\n",
            "0           Yes             DSL                   No  ...   \n",
            "1            No             DSL                  Yes  ...   \n",
            "2            No              No  No internet service  ...   \n",
            "3           Yes             DSL                   No  ...   \n",
            "4           Yes     Fiber optic                   No  ...   \n",
            "\n",
            "      DeviceProtection          TechSupport          StreamingTV  \\\n",
            "0                   No                  Yes                  Yes   \n",
            "1                   No                  Yes                   No   \n",
            "2  No internet service  No internet service  No internet service   \n",
            "3                   No                  Yes                  Yes   \n",
            "4                  Yes                  Yes                  Yes   \n",
            "\n",
            "       StreamingMovies        Contract PaperlessBilling  \\\n",
            "0                  Yes        Two year              Yes   \n",
            "1                   No        One year              Yes   \n",
            "2  No internet service        One year               No   \n",
            "3                   No  Month-to-month               No   \n",
            "4                  Yes        One year              Yes   \n",
            "\n",
            "               PaymentMethod MonthlyCharges  TotalCharges Churn  \n",
            "0  Bank transfer (automatic)          75.20       3901.25    No  \n",
            "1               Mailed check          54.60        617.85    No  \n",
            "2  Bank transfer (automatic)          20.10         318.6    No  \n",
            "3               Mailed check          65.00        2157.5    No  \n",
            "4           Electronic check         107.55        4533.9   Yes  \n",
            "\n",
            "[5 rows x 21 columns]\n"
          ]
        }
      ],
      "source": [
        "import pandas as pd\n",
        "\n",
        "train = pd.read_csv('train.csv')\n",
        "test = pd.read_csv('test.csv')\n",
        "\n",
        "target = train['Churn']\n",
        "\n",
        "print(train.head())\n"
      ]
    },
    {
      "cell_type": "code",
      "source": [
        "print(\"Train shape:\", train.shape)\n",
        "print(\"Test shape:\", test.shape)\n",
        "\n",
        "print(target.value_counts())\n",
        "\n",
        "print(\"\\nTrain info:\")\n",
        "print(train.info())\n",
        "\n",
        "print(\"\\nMissing values in train:\")\n",
        "print(train.isnull().sum().sort_values(ascending=False).head(10))"
      ],
      "metadata": {
        "colab": {
          "base_uri": "https://localhost:8080/"
        },
        "id": "t2BiNdAJnQFu",
        "outputId": "c73a6cf9-1f05-44fb-9dfb-479dbc27e030"
      },
      "execution_count": null,
      "outputs": [
        {
          "output_type": "stream",
          "name": "stdout",
          "text": [
            "Train shape: (5634, 21)\n",
            "Test shape: (1409, 20)\n",
            "Churn\n",
            "No     4139\n",
            "Yes    1495\n",
            "Name: count, dtype: int64\n",
            "\n",
            "Train info:\n",
            "<class 'pandas.core.frame.DataFrame'>\n",
            "RangeIndex: 5634 entries, 0 to 5633\n",
            "Data columns (total 21 columns):\n",
            " #   Column            Non-Null Count  Dtype  \n",
            "---  ------            --------------  -----  \n",
            " 0   id                5634 non-null   int64  \n",
            " 1   gender            5634 non-null   object \n",
            " 2   SeniorCitizen     5634 non-null   int64  \n",
            " 3   Partner           5634 non-null   object \n",
            " 4   Dependents        5634 non-null   object \n",
            " 5   tenure            5634 non-null   int64  \n",
            " 6   PhoneService      5634 non-null   object \n",
            " 7   MultipleLines     5634 non-null   object \n",
            " 8   InternetService   5634 non-null   object \n",
            " 9   OnlineSecurity    5634 non-null   object \n",
            " 10  OnlineBackup      5634 non-null   object \n",
            " 11  DeviceProtection  5634 non-null   object \n",
            " 12  TechSupport       5634 non-null   object \n",
            " 13  StreamingTV       5634 non-null   object \n",
            " 14  StreamingMovies   5634 non-null   object \n",
            " 15  Contract          5634 non-null   object \n",
            " 16  PaperlessBilling  5634 non-null   object \n",
            " 17  PaymentMethod     5634 non-null   object \n",
            " 18  MonthlyCharges    5634 non-null   float64\n",
            " 19  TotalCharges      5634 non-null   object \n",
            " 20  Churn             5634 non-null   object \n",
            "dtypes: float64(1), int64(3), object(17)\n",
            "memory usage: 924.5+ KB\n",
            "None\n",
            "\n",
            "Missing values in train:\n",
            "id                 0\n",
            "gender             0\n",
            "SeniorCitizen      0\n",
            "Partner            0\n",
            "Dependents         0\n",
            "tenure             0\n",
            "PhoneService       0\n",
            "MultipleLines      0\n",
            "InternetService    0\n",
            "OnlineSecurity     0\n",
            "dtype: int64\n"
          ]
        }
      ]
    },
    {
      "cell_type": "code",
      "source": [
        "#clean data\n",
        "train_clean = train.copy()\n",
        "test_clean = test.copy()\n",
        "\n",
        "train_clean['TotalCharges'] = pd.to_numeric(train_clean[\"TotalCharges\"], errors= \"coerce\")\n",
        "test_clean['TotalCharges'] = pd.to_numeric(test_clean[\"TotalCharges\"], errors= \"coerce\")\n",
        "\n",
        "\n",
        "print(train_clean[\"TotalCharges\"].isna().sum())\n",
        "train_clean.dropna(subset=[\"TotalCharges\"], inplace=True) # Add inplace=True here to modify the DataFrame\n",
        "\n",
        "test_clean['TotalCharges'].fillna(test_clean['TotalCharges'].mean(), inplace=True)\n",
        "\n",
        "# Feature Engineering\n",
        "# 1. AvgMonthlySpend\n",
        "train_clean['AvgMonthlySpend'] = train_clean['TotalCharges'] / train_clean['tenure']\n",
        "test_clean['AvgMonthlySpend'] = test_clean['TotalCharges'] / test_clean['tenure']\n",
        "\n",
        "# Handle potential division by zero for new customers (tenure=0)\n",
        "train_clean['AvgMonthlySpend'] = train_clean['AvgMonthlySpend'].replace([float('inf'), -float('inf')], 0)\n",
        "test_clean['AvgMonthlySpend'] = test_clean['AvgMonthlySpend'].replace([float('inf'), -float('inf')], 0)\n",
        "\n",
        "\n",
        "# 2. TenureGroup\n",
        "train_clean['TenureGroup'] = pd.cut(train_clean['tenure'], bins=[0, 12, 24, 48, 60, 72], labels=['0-12', '13-24', '25-48', '49-60', '61-72'], right=False)\n",
        "test_clean['TenureGroup'] = pd.cut(test_clean['tenure'], bins=[0, 12, 24, 48, 60, 72], labels=['0-12', '13-24', '25-48', '49-60', '61-72'], right=False)\n",
        "\n",
        "# Fill NaN values created by the cut function (for tenure outside bins)\n",
        "train_clean['TenureGroup'] = train_clean['TenureGroup'].cat.add_categories('Other').fillna('Other')\n",
        "test_clean['TenureGroup'] = test_clean['TenureGroup'].cat.add_categories('Other').fillna('Other')\n",
        "\n",
        "\n",
        "\n",
        "train_clean[\"Churn\"] = train_clean[\"Churn\"].map({\"Yes\": 1, \"No\": 0})\n",
        "train_clean.dropna(subset=['Churn'], inplace=True)\n",
        "\n",
        "\n",
        "print(train_clean[\"Churn\"].value_counts())"
      ],
      "metadata": {
        "colab": {
          "base_uri": "https://localhost:8080/"
        },
        "id": "kMimKyVttbgH",
        "outputId": "3c907382-9d33-49b1-b568-8443c0dc7d66"
      },
      "execution_count": null,
      "outputs": [
        {
          "output_type": "stream",
          "name": "stdout",
          "text": [
            "8\n",
            "Churn\n",
            "0    4131\n",
            "1    1495\n",
            "Name: count, dtype: int64\n"
          ]
        },
        {
          "output_type": "stream",
          "name": "stderr",
          "text": [
            "/tmp/ipython-input-47-3826784114.py:12: FutureWarning: A value is trying to be set on a copy of a DataFrame or Series through chained assignment using an inplace method.\n",
            "The behavior will change in pandas 3.0. This inplace method will never work because the intermediate object on which we are setting values always behaves as a copy.\n",
            "\n",
            "For example, when doing 'df[col].method(value, inplace=True)', try using 'df.method({col: value}, inplace=True)' or df[col] = df[col].method(value) instead, to perform the operation inplace on the original object.\n",
            "\n",
            "\n",
            "  test_clean['TotalCharges'].fillna(test_clean['TotalCharges'].mean(), inplace=True)\n"
          ]
        }
      ]
    },
    {
      "cell_type": "code",
      "source": [
        "from sklearn.preprocessing import OneHotEncoder\n",
        "from sklearn.compose import ColumnTransformer\n",
        "from sklearn.ensemble import RandomForestClassifier\n",
        "from sklearn.pipeline import Pipeline\n",
        "from sklearn.model_selection import train_test_split\n",
        "from sklearn.metrics import classification_report\n",
        "\n",
        "# Drop ID column (not useful)\n",
        "X_train = X_train.drop('id', axis=1)\n",
        "X_test = X_test.drop('id', axis=1)\n",
        "\n",
        "# Identify categorical columns\n",
        "categorical_cols = X_train.select_dtypes(include='object').columns.tolist()\n",
        "\n",
        "# Identify numerical columns\n",
        "numerical_cols = X_train.select_dtypes(include=['int64', 'float64']).columns.tolist()\n",
        "\n",
        "# One-hot encode categorical features\n",
        "preprocessor = ColumnTransformer(\n",
        "    transformers=[\n",
        "        ('cat', OneHotEncoder(handle_unknown='ignore'), categorical_cols)\n",
        "    ],\n",
        "    remainder='passthrough'  # Keep other columns as-is\n",
        ")\n",
        "\n",
        "# Create a pipeline: Preprocessing + Model\n",
        "pipeline = Pipeline(steps=[\n",
        "    ('preprocessor', preprocessor),\n",
        "    ('classifier', RandomForestClassifier(random_state=42))\n",
        "])\n",
        "\n",
        "# Optional: split training set for local validation\n",
        "X_train_split, X_val_split, y_train_split, y_val_split = train_test_split(\n",
        "    X_train, y_train, test_size=0.2, random_state=42\n",
        ")\n",
        "\n",
        "# Train the model\n",
        "pipeline.fit(X_train_split, y_train_split)\n",
        "\n",
        "# Evaluate on validation split\n",
        "y_pred = pipeline.predict(X_val_split)\n",
        "print(classification_report(y_val_split, y_pred))\n",
        "\n",
        "# Predict on test set\n",
        "y_test_pred = pipeline.predict(X_test)\n",
        "\n",
        "# You can create a submission dataframe if needed:\n",
        "submission = test_clean[['id']].copy()\n",
        "submission['Churn'] = y_test_pred\n",
        "submission['Churn'] = submission['Churn'].map({1: 'Yes', 0: 'No'})  # if needed in original format\n",
        "\n",
        "# Save to CSV\n",
        "submission.to_csv(\"submission.csv\", index=False)\n"
      ],
      "metadata": {
        "colab": {
          "base_uri": "https://localhost:8080/",
          "height": 210
        },
        "id": "WCb_ER37dWkl",
        "outputId": "5fcd0e54-9a6e-4b98-e5b6-cc0b32905970"
      },
      "execution_count": null,
      "outputs": [
        {
          "output_type": "error",
          "ename": "NameError",
          "evalue": "name 'X_train' is not defined",
          "traceback": [
            "\u001b[0;31m---------------------------------------------------------------------------\u001b[0m",
            "\u001b[0;31mNameError\u001b[0m                                 Traceback (most recent call last)",
            "\u001b[0;32m/tmp/ipython-input-5-2860917371.py\u001b[0m in \u001b[0;36m<cell line: 0>\u001b[0;34m()\u001b[0m\n\u001b[1;32m      7\u001b[0m \u001b[0;34m\u001b[0m\u001b[0m\n\u001b[1;32m      8\u001b[0m \u001b[0;31m# Drop ID column (not useful)\u001b[0m\u001b[0;34m\u001b[0m\u001b[0;34m\u001b[0m\u001b[0m\n\u001b[0;32m----> 9\u001b[0;31m \u001b[0mX_train\u001b[0m \u001b[0;34m=\u001b[0m \u001b[0mX_train\u001b[0m\u001b[0;34m.\u001b[0m\u001b[0mdrop\u001b[0m\u001b[0;34m(\u001b[0m\u001b[0;34m'id'\u001b[0m\u001b[0;34m,\u001b[0m \u001b[0maxis\u001b[0m\u001b[0;34m=\u001b[0m\u001b[0;36m1\u001b[0m\u001b[0;34m)\u001b[0m\u001b[0;34m\u001b[0m\u001b[0;34m\u001b[0m\u001b[0m\n\u001b[0m\u001b[1;32m     10\u001b[0m \u001b[0mX_test\u001b[0m \u001b[0;34m=\u001b[0m \u001b[0mX_test\u001b[0m\u001b[0;34m.\u001b[0m\u001b[0mdrop\u001b[0m\u001b[0;34m(\u001b[0m\u001b[0;34m'id'\u001b[0m\u001b[0;34m,\u001b[0m \u001b[0maxis\u001b[0m\u001b[0;34m=\u001b[0m\u001b[0;36m1\u001b[0m\u001b[0;34m)\u001b[0m\u001b[0;34m\u001b[0m\u001b[0;34m\u001b[0m\u001b[0m\n\u001b[1;32m     11\u001b[0m \u001b[0;34m\u001b[0m\u001b[0m\n",
            "\u001b[0;31mNameError\u001b[0m: name 'X_train' is not defined"
          ]
        }
      ]
    },
    {
      "cell_type": "code",
      "source": [
        "import pandas as pd\n",
        "from sklearn.model_selection import train_test_split\n",
        "from sklearn.preprocessing import OneHotEncoder\n",
        "from sklearn.compose import ColumnTransformer\n",
        "from sklearn.pipeline import Pipeline\n",
        "from sklearn.metrics import classification_report, accuracy_score\n",
        "from xgboost import XGBClassifier\n",
        "from sklearn.ensemble import RandomForestClassifier, VotingClassifier # Added VotingClassifier\n",
        "from sklearn.linear_model import LogisticRegression # Added LogisticRegression\n",
        "\n",
        "\n",
        "#subsetting\n",
        "# train_clean_sub = train_clean.drop([\"id\", \"gender\", \"PhoneService\"], axis=1)\n",
        "# test_clean_sub = test_clean.drop([\"id\", \"gender\", \"PhoneService\"], axis=1)\n",
        "\n",
        "train_clean_sub = train_clean[[\"tenure\", \"MultipleLines\", \"InternetService\", \"OnlineSecurity\", \"OnlineBackup\", \"DeviceProtection\",\n",
        "                               \"Contract\", \"MonthlyCharges\", \"TotalCharges\", \"StreamingTV\", \"StreamingMovies\", \"AvgMonthlySpend\", \"TenureGroup\" ,\"Churn\"]].copy() # Added new features and .copy()\n",
        "test_clean_sub = test_clean[[\"tenure\", \"MultipleLines\", \"InternetService\", \"OnlineSecurity\", \"OnlineBackup\", \"DeviceProtection\",\n",
        "                               \"Contract\", \"MonthlyCharges\", \"TotalCharges\", \"StreamingTV\", \"StreamingMovies\", \"AvgMonthlySpend\", \"TenureGroup\"]].copy() # Added new features and .copy()\n",
        "\n",
        "# Replace \"No internet service\" and \"No phone service\" with \"No\"\n",
        "# cols_to_fix = ['OnlineSecurity', 'OnlineBackup', 'DeviceProtection',\n",
        "#                'TechSupport', 'StreamingTV', 'StreamingMovies', 'MultipleLines']\n",
        "cols_to_fix = ['OnlineSecurity', 'OnlineBackup', 'DeviceProtection',\n",
        "                'StreamingMovies', 'MultipleLines']\n",
        "for col in cols_to_fix:\n",
        "    train_clean_sub[col] = train_clean_sub[col].replace({'No internet service': 'No', 'No phone service': 'No'})\n",
        "\n",
        "# Split\n",
        "X = train_clean_sub.drop(\"Churn\", axis=1)\n",
        "y = train_clean_sub[\"Churn\"]\n",
        "\n",
        "X_train, X_val, y_train, y_val = train_test_split(X, y, test_size=0.2, random_state=43, stratify=y)\n",
        "\n",
        "# Categorical and numerical columns\n",
        "categorical_cols = X.select_dtypes(include=['object', 'category']).columns.tolist() # Include 'category' dtype\n",
        "numerical_cols = X.select_dtypes(include=['int64', 'float64']).columns.tolist()\n",
        "\n",
        "# Preprocessor\n",
        "preprocessor = ColumnTransformer(\n",
        "    transformers=[\n",
        "        ('cat', OneHotEncoder(handle_unknown='ignore'), categorical_cols)\n",
        "    ],\n",
        "    remainder='passthrough'\n",
        ")\n",
        "\n",
        "# Define base models\n",
        "xgb = XGBClassifier(\n",
        "    n_estimators=200,\n",
        "    max_depth=5,\n",
        "    learning_rate=0.1,\n",
        "    scale_pos_weight=(y_train == 0).sum() / (y_train == 1).sum(),\n",
        "    use_label_encoder=False,\n",
        "    eval_metric='logloss',\n",
        "    random_state=42\n",
        ")\n",
        "\n",
        "rf = RandomForestClassifier(\n",
        "    n_estimators=150,\n",
        "    max_depth=10,\n",
        "    class_weight='balanced',\n",
        "    random_state=42\n",
        ")\n",
        "\n",
        "lr = LogisticRegression(\n",
        "    max_iter=1000,\n",
        "    solver='liblinear'\n",
        ")\n",
        "\n",
        "# Combine them into a soft voting classifier\n",
        "voting_clf = VotingClassifier(\n",
        "    estimators=[\n",
        "        ('xgb', xgb),\n",
        "        ('rf', rf),\n",
        "        ('lr', lr)\n",
        "    ],\n",
        "    voting='soft',  # use predicted probabilities\n",
        "    n_jobs=-1\n",
        ")\n",
        "\n",
        "# Final pipeline: preprocessor + stacked model\n",
        "pipeline_stack = Pipeline(steps=[\n",
        "    ('preprocessor', preprocessor),\n",
        "    ('classifier', voting_clf) # Use the voting classifier here\n",
        "])\n",
        "\n",
        "# Train the stacked model\n",
        "pipeline_stack.fit(X_train, y_train)\n",
        "\n",
        "# Evaluate the stacked model\n",
        "y_pred_stack = pipeline_stack.predict(X_val)\n",
        "print(\"🧠 Accuracy (Stacked):\", accuracy_score(y_val, y_pred_stack))\n",
        "print(classification_report(y_val, y_pred_stack))\n",
        "\n",
        "# Predict on test set using the stacked model\n",
        "# Preprocess test data\n",
        "test_clean_sub = test_clean_sub.copy()\n",
        "test_clean_sub['TotalCharges'] = pd.to_numeric(test_clean_sub['TotalCharges'], errors='coerce')\n",
        "test_clean_sub['TotalCharges'] = test_clean_sub['TotalCharges'].fillna(test_clean_sub['TotalCharges'].mean())\n",
        "\n",
        "for col in cols_to_fix:\n",
        "    test_clean_sub[col] = test_clean_sub[col].replace({'No internet service': 'No', 'No phone service': 'No'})\n",
        "\n",
        "X_test = test_clean_sub\n",
        "\n",
        "\n",
        "y_test_pred_stack = pipeline_stack.predict(X_test)\n",
        "\n",
        "# Save stacked submission\n",
        "submission_stack = pd.DataFrame({\n",
        "    'id': test_clean['id'],\n",
        "    'Churn': ['Yes' if val == 1 else 'No' for val in y_test_pred_stack]\n",
        "})\n",
        "\n",
        "submission_stack.to_csv(\"submission_stacked.csv\", index=False)\n",
        "print(\"✅ Stacked submission saved as 'submission_stacked.csv'\")"
      ],
      "metadata": {
        "colab": {
          "base_uri": "https://localhost:8080/"
        },
        "id": "FxgwHOIt7q9V",
        "outputId": "c356e704-c4c2-48a2-e4e9-0a80302a0493"
      },
      "execution_count": null,
      "outputs": [
        {
          "output_type": "stream",
          "name": "stdout",
          "text": [
            "🧠 Accuracy (Stacked): 0.7868561278863233\n",
            "              precision    recall  f1-score   support\n",
            "\n",
            "           0       0.88      0.82      0.85       827\n",
            "           1       0.58      0.70      0.64       299\n",
            "\n",
            "    accuracy                           0.79      1126\n",
            "   macro avg       0.73      0.76      0.74      1126\n",
            "weighted avg       0.80      0.79      0.79      1126\n",
            "\n",
            "✅ Stacked submission saved as 'submission_stacked.csv'\n"
          ]
        }
      ]
    },
    {
      "cell_type": "code",
      "source": [
        "print(submission)"
      ],
      "metadata": {
        "colab": {
          "base_uri": "https://localhost:8080/"
        },
        "id": "kGoOrAtxbxky",
        "outputId": "ea3aa908-fee5-4d32-e551-950ae22bbffb"
      },
      "execution_count": null,
      "outputs": [
        {
          "output_type": "stream",
          "name": "stdout",
          "text": [
            "        id Churn\n",
            "0        0    No\n",
            "1        1    No\n",
            "2        2    No\n",
            "3        3   Yes\n",
            "4        4    No\n",
            "...    ...   ...\n",
            "1404  1404    No\n",
            "1405  1405    No\n",
            "1406  1406   Yes\n",
            "1407  1407    No\n",
            "1408  1408   Yes\n",
            "\n",
            "[1409 rows x 2 columns]\n"
          ]
        }
      ]
    }
  ]
}